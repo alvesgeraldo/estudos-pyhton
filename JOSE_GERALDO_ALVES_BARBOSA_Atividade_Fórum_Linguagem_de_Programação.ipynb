{
  "nbformat": 4,
  "nbformat_minor": 0,
  "metadata": {
    "colab": {
      "name": "JOSE GERALDO ALVES BARBOSA - Atividade Fórum - Linguagem de Programação.ipynb",
      "provenance": [],
      "authorship_tag": "ABX9TyOHahoTxQ+xyPFKIcGZ/wp8",
      "include_colab_link": true
    },
    "kernelspec": {
      "name": "python3",
      "display_name": "Python 3"
    },
    "language_info": {
      "name": "python"
    }
  },
  "cells": [
    {
      "cell_type": "markdown",
      "metadata": {
        "id": "view-in-github",
        "colab_type": "text"
      },
      "source": [
        "<a href=\"https://colab.research.google.com/github/alvesgeraldo/estudos-pyhton/blob/main/JOSE_GERALDO_ALVES_BARBOSA_Atividade_F%C3%B3rum_Linguagem_de_Programa%C3%A7%C3%A3o.ipynb\" target=\"_parent\"><img src=\"https://colab.research.google.com/assets/colab-badge.svg\" alt=\"Open In Colab\"/></a>"
      ]
    },
    {
      "cell_type": "code",
      "execution_count": null,
      "metadata": {
        "id": "LrFON-GS4Z3d"
      },
      "outputs": [],
      "source": [
        "#Faça um programa em Python que leia um valor inteiro e mostre a tabuada de 1 a 10 do valor lido\n",
        "\n",
        "#Recebendo número inteiro\n",
        "numero = int(input('Digite um número inteiro: '))\n",
        "print(f'Tabuada do número: {numero}')\n",
        "\n",
        "#Imprimindo tabuada\n",
        "for i in range(1,11):\n",
        "  print(f'{numero} x {i} = {i * numero}')"
      ]
    },
    {
      "cell_type": "code",
      "source": [
        "\"\"\"Construa uma função que receba uma string como parâmetro e devolva outra string com os caracteres embaralhados. \n",
        "Por exemplo: se função receber a palavra python, pode retornar npthyo, ophtyn ou qualquer outra combinação possível, de forma aleatória. \n",
        "Padronize em sua função que todos os caracteres serão devolvidos em caixa alta ou caixa baixa, independentemente de como foram digitados.\"\"\"\n",
        "#Importando Biblioteca\n",
        "from random import sample\n",
        "\n",
        "#Criando função\n",
        "def embaralhando_palavra(string):\n",
        "  tam = len(string) #Verificando o tamanho da palavra\n",
        "  aux = sample(string, tam) #Variável auxiliar para armazenar caracteres embaralhados\n",
        "  embaralhada = ''.join(aux).lower() #Juntando os caracteres e deixando em caixa baixa\n",
        "  print(f'Palavra embaralhada: {embaralhada}') #Imprimindo resultado\n",
        "\n",
        "#Recebendo palavra\n",
        "string = input('Digite uma palavra: ')\n",
        "\n",
        "#Imprimindo palavra digitada pelo usuário\n",
        "print(f'Palavra recebida: {string}')\n",
        "\n",
        "#Chamando Função\n",
        "embaralhando_palavra(string)\n"
      ],
      "metadata": {
        "id": "4CIKyhP5-ExZ"
      },
      "execution_count": null,
      "outputs": []
    }
  ]
}